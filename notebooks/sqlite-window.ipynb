{
 "cells": [
  {
   "cell_type": "code",
   "execution_count": 1,
   "metadata": {
    "slideshow": {
     "slide_type": "-"
    }
   },
   "outputs": [],
   "source": [
    "import sqlite3\n",
    "from typing import Optional\n",
    "\n",
    "from numba.experimental import jitclass\n",
    "from slumba import sqlite_udaf, create_aggregate"
   ]
  },
  {
   "cell_type": "code",
   "execution_count": 2,
   "metadata": {},
   "outputs": [],
   "source": [
    "@sqlite_udaf\n",
    "@jitclass\n",
    "class Avg:\n",
    "    total: float\n",
    "    count: int\n",
    "    \n",
    "    def __init__(self) -> None:\n",
    "        self.total = 0.0\n",
    "        self.count = 0\n",
    "        \n",
    "    def step(self, value: Optional[float]) -> None:\n",
    "        if value is not None:\n",
    "            self.total += value\n",
    "            self.count += 1\n",
    "        \n",
    "    def finalize(self) -> Optional[float]:\n",
    "        count = self.count\n",
    "        if count:\n",
    "            return self.total / count\n",
    "        return None\n",
    "    \n",
    "    def value(self) -> Optional[float]:\n",
    "        return self.finalize()\n",
    "    \n",
    "    def inverse(self, value: Optional[float]) -> None:\n",
    "        if value is not None:\n",
    "            self.total -= value\n",
    "            self.count -= 1"
   ]
  },
  {
   "cell_type": "code",
   "execution_count": 3,
   "metadata": {},
   "outputs": [],
   "source": [
    "con = sqlite3.connect(':memory:')"
   ]
  },
  {
   "cell_type": "code",
   "execution_count": 4,
   "metadata": {},
   "outputs": [],
   "source": [
    "create_aggregate(con, 'my_avg', 1, Avg)"
   ]
  },
  {
   "cell_type": "code",
   "execution_count": 5,
   "metadata": {},
   "outputs": [],
   "source": [
    "query = \"\"\"\n",
    "WITH t AS (\n",
    "  SELECT 1 AS c UNION\n",
    "  SELECT 2 AS c UNION\n",
    "  SELECT NULL AS c\n",
    ")\n",
    "SELECT my_avg(c) OVER (ORDER BY c) AS my_udaf,\n",
    "       avg(c) OVER (ORDER BY c) AS builtin_udaf\n",
    "FROM t\n",
    "\"\"\""
   ]
  },
  {
   "cell_type": "code",
   "execution_count": 6,
   "metadata": {},
   "outputs": [
    {
     "data": {
      "text/plain": [
       "[(None, None), (1.0, 1.0), (1.5, 1.5)]"
      ]
     },
     "execution_count": 6,
     "metadata": {},
     "output_type": "execute_result"
    }
   ],
   "source": [
    "con.execute(query).fetchall()"
   ]
  }
 ],
 "metadata": {
  "kernelspec": {
   "display_name": "Python 3 (ipykernel)",
   "language": "python",
   "name": "python3"
  },
  "language_info": {
   "codemirror_mode": {
    "name": "ipython",
    "version": 3
   },
   "file_extension": ".py",
   "mimetype": "text/x-python",
   "name": "python",
   "nbconvert_exporter": "python",
   "pygments_lexer": "ipython3",
   "version": "3.9.6"
  }
 },
 "nbformat": 4,
 "nbformat_minor": 2
}
